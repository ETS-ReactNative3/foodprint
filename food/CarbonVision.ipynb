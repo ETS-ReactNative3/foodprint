{
 "cells": [
  {
   "cell_type": "code",
   "execution_count": null,
   "metadata": {},
   "outputs": [],
   "source": [
    "from google.cloud import vision\n",
    "import requests\n",
    "import os\n",
    "import io\n",
    "import pandas as pd\n",
    "max_layer = 4\n",
    "os.environ['GOOGLE_APPLICATION_CREDENTIALS'] = r'carbon-7fbf76411514.json'\n",
    "data = pd.read_csv(\"dataFake.csv\", sep=';') "
   ]
  },
  {
   "cell_type": "code",
   "execution_count": null,
   "metadata": {},
   "outputs": [],
   "source": [
    "#Function which returns the carbon footprint/kg of a product. If product is not present in the data, returns 0.\n",
    "def searchData(product):\n",
    "    for i in range(0,len(data.index)-1):\n",
    "        if(data.loc[i][0]==product):\n",
    "            return data.loc[i][1]\n",
    "    return None"
   ]
  },
  {
   "cell_type": "code",
   "execution_count": null,
   "metadata": {},
   "outputs": [],
   "source": [
    "#Extracting image. This part will change when link with React Native.\n",
    "file_name = r'pineapple.jpeg'\n",
    "image_path = f'{file_name}'\n",
    "with io.open(image_path, 'rb') as image_file:\n",
    "    content = image_file.read()"
   ]
  },
  {
   "cell_type": "code",
   "execution_count": null,
   "metadata": {},
   "outputs": [],
   "source": [
    "#Uses Google Vision API to get the labels of the picture.\n",
    "#@param content: holds content of the picture\n",
    "def get_vision_response(content):\n",
    "    response = []\n",
    "    client = vision.ImageAnnotatorClient()\n",
    "    image = vision.types.Image(content = content)\n",
    "    result = client.label_detection(image = image)\n",
    "    for i in range(0, len(result.label_annotations)):\n",
    "        response.append(result.label_annotations[i].description)\n",
    "    print(response)\n",
    "    return response"
   ]
  },
  {
   "cell_type": "code",
   "execution_count": null,
   "metadata": {},
   "outputs": [],
   "source": [
    "#Function which return the carbon footprint/kg of the first product label present in the data set.\n",
    "#If none of the product labels are present in the data set returns 0.\n",
    "#@param response: stores the labels of a product.\n",
    "def first_layer_search(response):\n",
    "    carbon = None\n",
    "    for i in range(0, len(response)):\n",
    "        carbon = searchData(response[i])\n",
    "        if(carbon != None):\n",
    "            return carbon\n",
    "    return carbon"
   ]
  },
  {
   "cell_type": "code",
   "execution_count": null,
   "metadata": {},
   "outputs": [],
   "source": [
    "#This is called in get_carbon in case first_layer_search failed. It finds concepts related to product layers and searches\n",
    "#data set for their carbon footprint/kg. If none of the related concepts are present in the data set returns 0.\n",
    "def next_layer_search(response):\n",
    "    carbon = None\n",
    "    next_response = []\n",
    "    for i in range(0, len(response)):\n",
    "        label = response[i]\n",
    "        obj = requests.get('http://api.conceptnet.io/query?start=/c/en/' + label + '&rel=/r/IsA&limit=1000').json() #DO WE NEED LIMIT????\n",
    "        for j in range(0, len(obj['edges'])):\n",
    "            concept = obj['edges'][i]['end']['label']\n",
    "            carbon = searchData(concept)\n",
    "            next_response.append(concept)\n",
    "            if carbon != None:\n",
    "                return carbon\n",
    "    response = next_response\n",
    "    return carbon"
   ]
  },
  {
   "cell_type": "code",
   "execution_count": null,
   "metadata": {},
   "outputs": [],
   "source": [
    "#Function which returns the carbon footprint/kg of the product displayed in the picture. If carbon footprint/kg\n",
    "#is not found, returns 0.\n",
    "#@param content: holds content of the picture\n",
    "def get_carbon(content):\n",
    "    layer = 0\n",
    "    carbon = None\n",
    "    response = get_vision_response(content)\n",
    "    carbon = first_layer_search(response)\n",
    "    while carbon == None and layer < max_layer:\n",
    "        carbon = next_layer_search(response)\n",
    "        layer += 1\n",
    "    return carbon  "
   ]
  },
  {
   "cell_type": "code",
   "execution_count": null,
   "metadata": {
    "scrolled": true
   },
   "outputs": [],
   "source": [
    "carbon = get_carbon(content)\n",
    "print(carbon)"
   ]
  },
  {
   "cell_type": "code",
   "execution_count": null,
   "metadata": {},
   "outputs": [],
   "source": []
  }
 ],
 "metadata": {
  "kernelspec": {
   "display_name": "Python 3",
   "language": "python",
   "name": "python3"
  },
  "language_info": {
   "codemirror_mode": {
    "name": "ipython",
    "version": 3
   },
   "file_extension": ".py",
   "mimetype": "text/x-python",
   "name": "python",
   "nbconvert_exporter": "python",
   "pygments_lexer": "ipython3",
   "version": "3.7.3"
  }
 },
 "nbformat": 4,
 "nbformat_minor": 4
}
